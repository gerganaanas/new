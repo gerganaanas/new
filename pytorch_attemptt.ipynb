{
 "cells": [
  {
   "cell_type": "code",
   "execution_count": 1,
   "id": "e0c2ded5",
   "metadata": {},
   "outputs": [],
   "source": [
    "# Import necessary libraries\n",
    "import torch  # Core PyTorch library for tensor operations\n",
    "import torch.nn as nn  # PyTorch module for building neural networks\n",
    "import torch.optim as optim  # Optimizers like Adam, SGD, etc.\n",
    "from torch.utils.data import DataLoader, TensorDataset  # For batching and loading data\n",
    "import numpy as np  # For array operations\n",
    "import matplotlib.pyplot as plt  # For plotting images and graphs\n",
    "import pickle  # For loading CIFAR-10 data in binary format\n",
    "from pytorch_msssim import ssim  # SSIM loss function for image similarity\n"
   ]
  },
  {
   "cell_type": "code",
   "execution_count": 2,
   "id": "933573eb",
   "metadata": {},
   "outputs": [],
   "source": [
    "# Function to load pickled CIFAR-10 data file\n",
    "def unpickle(file):\n",
    "    with open(file, 'rb') as fo:\n",
    "        batch = pickle.load(fo, encoding='bytes')  # Load with correct encoding\n",
    "    return batch\n",
    "\n",
    "# Load one batch of CIFAR-10 dataset\n",
    "batch = unpickle('data_batch_1')\n",
    "data = batch[b'data']  # Image pixel data (in bytes)\n",
    "labels = batch[b'labels']  # Corresponding labels\n",
    "\n",
    "# Normalize and reshape image data to [-1, 1] range, and shape (N, 3, 32, 32)\n",
    "images = data.reshape(-1, 3, 32, 32).astype(np.float32) / 255.0\n",
    "images = (images * 2.0) - 1.0  # Normalize from [0,1] to [-1,1]\n",
    "images = torch.tensor(images[:10000])  # Use only first 10,000 images\n",
    "labels = labels[:10000]  # Matching labels\n",
    "\n",
    "# Wrap data and labels into a dataset and dataloader for batching\n",
    "dataset = TensorDataset(images, torch.tensor(labels))\n",
    "dataloader = DataLoader(dataset, batch_size=64, shuffle=True)  # Shuffle and batch\n"
   ]
  },
  {
   "cell_type": "code",
   "execution_count": 3,
   "id": "acf62b78",
   "metadata": {},
   "outputs": [],
   "source": [
    "# Define a lightweight convolutional autoencoder as in the chosen video\n",
    "class LightAutoencoder(nn.Module):\n",
    "    def __init__(self):\n",
    "        super().__init__()\n",
    "        self.encoder = nn.Sequential(\n",
    "            nn.Conv2d(3, 16, 3, stride=2, padding=1),  # Downsample 32x32 -> 16x16\n",
    "            nn.ReLU(inplace=True),\n",
    "            nn.Conv2d(16, 32, 3, stride=2, padding=1),  # 16x16 -> 8x8\n",
    "            nn.ReLU(inplace=True),\n",
    "            nn.Conv2d(32, 64, 3, stride=2, padding=1),  # 8x8 -> 4x4\n",
    "            nn.ReLU(inplace=True),\n",
    "        )\n",
    "        self.decoder = nn.Sequential(\n",
    "            nn.ConvTranspose2d(64, 32, 3, stride=2, padding=1, output_padding=1),  # 4x4 -> 8x8\n",
    "            nn.ReLU(inplace=True),\n",
    "            nn.ConvTranspose2d(32, 16, 3, stride=2, padding=1, output_padding=1),  # 8x8 -> 16x16\n",
    "            nn.ReLU(inplace=True),\n",
    "            nn.ConvTranspose2d(16, 3, 3, stride=2, padding=1, output_padding=1),  # 16x16 -> 32x32\n",
    "            nn.Tanh()  # Output in [-1, 1]\n",
    "        )\n",
    "\n",
    "    # Forward pass: encode then decode\n",
    "    def forward(self, x):\n",
    "        return self.decoder(self.encoder(x))\n"
   ]
  },
  {
   "cell_type": "code",
   "execution_count": 4,
   "id": "b338b65a",
   "metadata": {},
   "outputs": [
    {
     "name": "stdout",
     "output_type": "stream",
     "text": [
      "Training autoencoder...\n",
      "Epoch 5/50, Loss: 0.151536\n",
      "Epoch 10/50, Loss: 0.113886\n",
      "Epoch 15/50, Loss: 0.090334\n",
      "Epoch 20/50, Loss: 0.079141\n",
      "Epoch 25/50, Loss: 0.073173\n",
      "Epoch 30/50, Loss: 0.067964\n",
      "Epoch 35/50, Loss: 0.069208\n",
      "Epoch 40/50, Loss: 0.060841\n",
      "Epoch 45/50, Loss: 0.057584\n",
      "Epoch 50/50, Loss: 0.054619\n",
      "Training complete!\n"
     ]
    }
   ],
   "source": [
    "# Set device to CPU as this is what this github repository uses (can change to \"cuda\" if GPU available)\n",
    "device = torch.device(\"cpu\")\n",
    "model = LightAutoencoder().to(device)  # Move model to device\n",
    "\n",
    "# Define combined loss: MSE + weighted SSIM\n",
    "def combined_loss(output, target):\n",
    "    mse = nn.functional.mse_loss(output, target)  # Pixel-wise loss\n",
    "    ssim_loss = 1 - ssim(output, target, data_range=2.0, size_average=True)  # Structural loss\n",
    "    return mse + 0.5 * ssim_loss  # Weighted combination\n",
    "\n",
    "# Setup Adam optimizer\n",
    "optimizer = optim.Adam(model.parameters(), lr=0.001)\n",
    "\n",
    "# Training loop config\n",
    "num_epochs = 50\n",
    "losses = []  # Track loss per epoch\n",
    "\n",
    "# Train the autoencoder\n",
    "print(\"Training autoencoder...\")\n",
    "model.train()\n",
    "for epoch in range(num_epochs):\n",
    "    epoch_loss = 0\n",
    "    for batch_data, _ in dataloader:\n",
    "        batch_data = batch_data.to(device)\n",
    "        optimizer.zero_grad()  # Clear previous gradients\n",
    "        output = model(batch_data)  # Forward pass\n",
    "        loss = combined_loss(output, batch_data)  # Compute loss\n",
    "        loss.backward()  # Backpropagation\n",
    "        optimizer.step()  # Update weights\n",
    "        epoch_loss += loss.item()  # Accumulate loss\n",
    "    avg_loss = epoch_loss / len(dataloader)  # Average epoch loss\n",
    "    losses.append(avg_loss)\n",
    "    if (epoch + 1) % 5 == 0:  # Print every 5 epochs\n",
    "        print(f\"Epoch {epoch+1}/{num_epochs}, Loss: {avg_loss:.6f}\")\n",
    "print(\"Training complete!\")\n"
   ]
  },
  {
   "cell_type": "code",
   "execution_count": 5,
   "id": "1ec354ec",
   "metadata": {},
   "outputs": [],
   "source": [
    "# Convert text to binary bits with a 32-bit header representing message length\n",
    "def text_to_bits_with_header(text):\n",
    "    msg_bytes = text.encode('utf-8')\n",
    "    msg_len = len(msg_bytes)\n",
    "    header_bits = [int(bit) for bit in format(msg_len, '032b')]  # Length header\n",
    "    message_bits = [int(bit) for byte in msg_bytes for bit in format(byte, '08b')]  # Message bits\n",
    "    return header_bits + message_bits\n",
    "\n",
    "# Convert bits (with header) back to string\n",
    "def bits_to_text_with_header(bits):\n",
    "    header = bits[:32]\n",
    "    msg_len = int(''.join(str(bit) for bit in header), 2)  # Extract message length\n",
    "    message_bits = bits[32:32 + msg_len * 8]  # Extract actual message\n",
    "    chars = [int(''.join(str(bit) for bit in message_bits[i:i+8]), 2)\n",
    "             for i in range(0, len(message_bits), 8)]\n",
    "    return bytes(chars).decode('utf-8', errors='ignore')  # Convert to string\n",
    "\n",
    "# Embed bits into LSB of image tensor\n",
    "def embed_message_in_image_tensor(tensor_img, bits):\n",
    "    img_np = ((tensor_img.numpy() + 1.0) * 127.5).astype(np.uint8)  # Scale to [0,255]\n",
    "    flat_img = img_np.flatten()\n",
    "    if len(bits) > len(flat_img):\n",
    "        raise ValueError(\"Message too long for this image.\")\n",
    "    for i, bit in enumerate(bits):\n",
    "        flat_img[i] = (flat_img[i] & 0xFE) | bit  # Set LSB to bit\n",
    "    img_np_stego = flat_img.reshape(img_np.shape)\n",
    "    stego_tensor = torch.tensor(img_np_stego, dtype=torch.float32) / 127.5 - 1.0  # Rescale to [-1,1]\n",
    "    return stego_tensor\n",
    "\n",
    "# Extract bits from LSB of image tensor\n",
    "def extract_bits_from_image_tensor(tensor_img, num_bits):\n",
    "    img_np = ((tensor_img.numpy() + 1.0) * 127.5).astype(np.uint8)\n",
    "    flat_img = img_np.flatten()\n",
    "    bits = [int(pixel & 1) for pixel in flat_img[:num_bits]]  # Extract LSB\n",
    "    return bits\n",
    "\n",
    "# Convert tensor to displayable image\n",
    "def tensor_to_image(t):\n",
    "    return np.clip(((t.permute(1, 2, 0).numpy()) + 1.0) / 2.0, 0, 1)  # Convert from [-1,1] to [0,1]\n"
   ]
  },
  {
   "cell_type": "code",
   "execution_count": 6,
   "id": "ec37d01e",
   "metadata": {},
   "outputs": [
    {
     "name": "stdout",
     "output_type": "stream",
     "text": [
      "Original message: 'Hello World!'\n",
      "Extracted message: 'NZOdt(jh['\n"
     ]
    }
   ],
   "source": [
    "# The secret message to hide\n",
    "message = \"Hello World!\"\n",
    "bits = text_to_bits_with_header(message)  # Convert message to bits with header\n",
    "\n",
    "# Select an image and clone it to avoid modifying original\n",
    "original_tensor = images[0].clone()  # Shape: (3,32,32), values in [-1,1]\n",
    "\n",
    "# Embed message into image\n",
    "stego_tensor = embed_message_in_image_tensor(original_tensor, bits)\n",
    "\n",
    "# Run stego image through autoencoder\n",
    "model.eval()\n",
    "with torch.no_grad():\n",
    "    reconstructed_tensor = model(stego_tensor.unsqueeze(0)).squeeze(0)  # Shape: (3,32,32)\n",
    "\n",
    "# Extract bits from autoencoder's output image\n",
    "extracted_bits = extract_bits_from_image_tensor(reconstructed_tensor.cpu(), num_bits=len(bits))\n",
    "\n",
    "# Convert extracted bits back to text\n",
    "extracted_message = bits_to_text_with_header(extracted_bits)\n",
    "\n",
    "# Display results\n",
    "print(f\"Original message: '{message}'\")\n",
    "print(f\"Extracted message: '{extracted_message}'\")\n"
   ]
  },
  {
   "cell_type": "code",
   "execution_count": 7,
   "id": "97d0d94b",
   "metadata": {},
   "outputs": [
    {
     "data": {
      "image/png": "[encoded data removed]",
      "text/plain": [
       "<Figure size 900x300 with 3 Axes>"
      ]
     },
     "metadata": {},
     "output_type": "display_data"
    }
   ],
   "source": [
    "# Plot original, stego, and reconstructed images\n",
    "plt.figure(figsize=(9, 3))\n",
    "\n",
    "plt.subplot(1, 3, 1)\n",
    "plt.imshow(tensor_to_image(original_tensor))\n",
    "plt.title('Original')\n",
    "plt.axis('off')\n",
    "\n",
    "plt.subplot(1, 3, 2)\n",
    "plt.imshow(tensor_to_image(stego_tensor))\n",
    "plt.title('Stego Image')\n",
    "plt.axis('off')\n",
    "\n",
    "plt.subplot(1, 3, 3)\n",
    "plt.imshow(tensor_to_image(reconstructed_tensor.cpu()))\n",
    "plt.title('Reconstructed')\n",
    "plt.axis('off')\n",
    "\n",
    "plt.tight_layout()\n",
    "plt.show()\n"
   ]
  },
  {
   "cell_type": "code",
   "execution_count": 9,
   "id": "dbe2a89f",
   "metadata": {},
   "outputs": [
    {
     "name": "stdout",
     "output_type": "stream",
     "text": [
      "First 32 bits in image LSBs: [np.uint8(1), np.uint8(1), np.uint8(1), np.uint8(0), np.uint8(0), np.uint8(0), np.uint8(0), np.uint8(0), np.uint8(0), np.uint8(0), np.uint8(0), np.uint8(0), np.uint8(0), np.uint8(0), np.uint8(0), np.uint8(0), np.uint8(0), np.uint8(0), np.uint8(0), np.uint8(0), np.uint8(0), np.uint8(0), np.uint8(0), np.uint8(0), np.uint8(0), np.uint8(0), np.uint8(0), np.uint8(0), np.uint8(1), np.uint8(1), np.uint8(0), np.uint8(0)]\n",
      "Header bits you expected: [0, 0, 0, 0, 0, 0, 0, 0, 0, 0, 0, 0, 0, 0, 0, 0, 0, 0, 0, 0, 0, 0, 0, 0, 0, 0, 0, 0, 1, 1, 0, 0]\n"
     ]
    }
   ],
   "source": [
    "# Non-matching bits due to an innefective approach \n",
    "bits = text_to_bits_with_header(message)\n",
    "stego_tensor = embed_message_in_image_tensor(original_tensor, bits)\n",
    "\n",
    "img_np = ((stego_tensor.numpy() + 1.0) * 127.5).astype(np.uint8)\n",
    "flat_img = img_np.flatten()\n",
    "\n",
    "print(\"First 32 bits in image LSBs:\", [pixel & 1 for pixel in flat_img[:32]])\n",
    "print(\"Header bits you expected:\", bits[:32])\n"
   ]
  },
  {
   "cell_type": "code",
   "execution_count": 10,
   "id": "bc9be5cc",
   "metadata": {},
   "outputs": [
    {
     "name": "stdout",
     "output_type": "stream",
     "text": [
      "Original message: 'Hello World!'\n",
      "Extracted message: 'Hello World!'\n"
     ]
    },
    {
     "data": {
      "image/png": "[encoded data removed]",
      "text/plain": [
       "<Figure size 800x400 with 2 Axes>"
      ]
     },
     "metadata": {},
     "output_type": "display_data"
    }
   ],
   "source": [
    "# LSB approach (realization pytorch is not the most optimal approach)\n",
    "import torch\n",
    "import numpy as np\n",
    "import matplotlib.pyplot as plt\n",
    "import pickle\n",
    "\n",
    "def unpickle(file):\n",
    "    with open(file, 'rb') as fo:\n",
    "        batch = pickle.load(fo, encoding='bytes')\n",
    "    return batch\n",
    "\n",
    "batch = unpickle('data_batch_1')\n",
    "data = batch[b'data']\n",
    "labels = batch[b'labels']\n",
    "\n",
    "images = data.reshape(-1, 3, 32, 32).astype(np.uint8)  # Keep as uint8 here\n",
    "images = torch.tensor(images[:10000])  # Use first 10k\n",
    "\n",
    "def text_to_bits_with_header(text):\n",
    "    msg_bytes = text.encode('utf-8')\n",
    "    msg_len = len(msg_bytes)\n",
    "    header_bits = [int(bit) for bit in format(msg_len, '032b')]  # 32 bit header\n",
    "    message_bits = [int(bit) for byte in msg_bytes for bit in format(byte, '08b')]\n",
    "    return header_bits + message_bits\n",
    "\n",
    "def bits_to_text_with_header(bits):\n",
    "    header_bits = bits[:32]\n",
    "    msg_len = int(''.join(str(bit) for bit in header_bits), 2)\n",
    "    message_bits = bits[32:32 + msg_len * 8]\n",
    "    chars = []\n",
    "    for i in range(0, len(message_bits), 8):\n",
    "        byte_bits = message_bits[i:i+8]\n",
    "        if len(byte_bits) < 8:\n",
    "            break\n",
    "        chars.append(int(''.join(str(bit) for bit in byte_bits), 2))\n",
    "    return bytes(chars).decode('utf-8', errors='ignore')\n",
    "\n",
    "def embed_message_in_image(img_np, bits):\n",
    "    \"\"\"\n",
    "    img_np: numpy uint8 array shape (3,32,32)\n",
    "    bits: list of 0/1 bits\n",
    "    \"\"\"\n",
    "    flat_img = img_np.flatten()\n",
    "    if len(bits) > len(flat_img):\n",
    "        raise ValueError(\"Message too long to embed in image!\")\n",
    "\n",
    "    # Clear LSB then set\n",
    "    flat_img[:len(bits)] = (flat_img[:len(bits)] & 0xFE) | bits\n",
    "    return flat_img.reshape(img_np.shape)\n",
    "\n",
    "def extract_bits_from_image(img_np, num_bits):\n",
    "    flat_img = img_np.flatten()\n",
    "    bits = flat_img[:num_bits] & 1\n",
    "    return bits.tolist()\n",
    "\n",
    "message = \"Hello World!\"\n",
    "bits = text_to_bits_with_header(message)\n",
    "\n",
    "original_img_np = images[0].numpy()  # uint8 (3,32,32)\n",
    "stego_img_np = embed_message_in_image(original_img_np.copy(), bits)\n",
    "extracted_bits = extract_bits_from_image(stego_img_np, len(bits))\n",
    "extracted_message = bits_to_text_with_header(extracted_bits)\n",
    "\n",
    "print(f\"Original message: '{message}'\")\n",
    "print(f\"Extracted message: '{extracted_message}'\")\n",
    "\n",
    "# Visualize original and stego\n",
    "def np_to_img(np_img):\n",
    "    # (3,32,32) uint8 -> (32,32,3) float [0,1]\n",
    "    return np.transpose(np_img, (1, 2, 0)) / 255.0\n",
    "\n",
    "plt.figure(figsize=(8,4))\n",
    "plt.subplot(1,2,1)\n",
    "plt.imshow(np_to_img(original_img_np))\n",
    "plt.title(\"Original\")\n",
    "plt.axis('off')\n",
    "\n",
    "plt.subplot(1,2,2)\n",
    "plt.imshow(np_to_img(stego_img_np))\n",
    "plt.title(\"Stego\")\n",
    "plt.axis('off')\n",
    "\n",
    "plt.show()\n"
   ]
  }
 ],
 "metadata": {
  "kernelspec": {
   "display_name": "Python 3",
   "language": "python",
   "name": "python3"
  },
  "language_info": {
   "codemirror_mode": {
    "name": "ipython",
    "version": 3
   },
   "file_extension": ".py",
   "mimetype": "text/x-python",
   "name": "python",
   "nbconvert_exporter": "python",
   "pygments_lexer": "ipython3",
   "version": "3.11.12"
  }
 },
 "nbformat": 4,
 "nbformat_minor": 5
}
